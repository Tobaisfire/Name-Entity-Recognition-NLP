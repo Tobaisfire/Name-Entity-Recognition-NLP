{
  "cells": [
    {
      "cell_type": "markdown",
      "id": "crucial-blame",
      "metadata": {
        "id": "crucial-blame"
      },
      "source": [
        "# **Named Entity Recognition Using BI-LSTM**"
      ]
    },
    {
      "cell_type": "code",
      "execution_count": 1,
      "id": "0rbVimcX7H5c",
      "metadata": {
        "colab": {
          "base_uri": "https://localhost:8080/",
          "height": 71
        },
        "id": "0rbVimcX7H5c",
        "outputId": "910b9694-c855-40fe-c4ad-02cde7f44289"
      },
      "outputs": [
        {
          "data": {
            "text/plain": [
              "'\\nNamed Entity Recognition using CRF model\\nIn Natural Language Processing (NLP) an Entity Recognition is one of the common problem. The entity is referred to as the part of the text that is interested in. In NLP, NER is a method of extracting the relevant information from a large corpus and classifying those entities into predefined categories such as location, organization, name and so on. Information about lables:\\n\\ngeo = Geographical Entity\\n\\norg = Organization\\n\\nper = Person\\n\\ngpe = Geopolitical Entity\\n\\ntim = Time indicatorindicato\\n\\nart = Artifact\\n\\neve = Event\\n\\nnat = Natural Phenomenon\\n\\n  1. Total Words Count = 1354149 \\n  2. Target Data Column: Tag\\n\\n'"
            ]
          },
          "execution_count": 1,
          "metadata": {},
          "output_type": "execute_result"
        }
      ],
      "source": [
        "'''\n",
        "Named Entity Recognition using CRF model\n",
        "In Natural Language Processing (NLP) an Entity Recognition is one of the common problem. The entity is referred to as the part of the text that is interested in. In NLP, NER is a method of extracting the relevant information from a large corpus and classifying those entities into predefined categories such as location, organization, name and so on. Information about lables:\n",
        "\n",
        "geo = Geographical Entity\n",
        "\n",
        "org = Organization\n",
        "\n",
        "per = Person\n",
        "\n",
        "gpe = Geopolitical Entity\n",
        "\n",
        "tim = Time indicatorindicato\n",
        "\n",
        "art = Artifact\n",
        "\n",
        "eve = Event\n",
        "\n",
        "nat = Natural Phenomenon\n",
        "\n",
        "  1. Total Words Count = 1354149 \n",
        "  2. Target Data Column: Tag\n",
        "\n",
        "'''"
      ]
    },
    {
      "cell_type": "markdown",
      "id": "Q_VAasfcJ98N",
      "metadata": {
        "id": "Q_VAasfcJ98N"
      },
      "source": [
        "# **Initialization**"
      ]
    },
    {
      "cell_type": "markdown",
      "id": "dressed-seeking",
      "metadata": {
        "id": "dressed-seeking"
      },
      "source": [
        "###   **Import Libraries**"
      ]
    },
    {
      "cell_type": "code",
      "execution_count": 2,
      "id": "following-jurisdiction",
      "metadata": {
        "id": "following-jurisdiction"
      },
      "outputs": [],
      "source": [
        "#computing\n",
        "import numpy as np\n",
        "import pandas as pd\n",
        "\n",
        "#visualisation and processing\n",
        "import matplotlib.pyplot as plt\n",
        "import seaborn as sns\n",
        "from sklearn.model_selection import train_test_split\n",
        "\n",
        "#model\n",
        "from tensorflow import keras\n",
        "from tensorflow.keras.preprocessing.sequence import pad_sequences\n",
        "from keras.utils import to_categorical\n",
        "from tensorflow.keras import Model, Sequential, Input\n",
        "from tensorflow.keras.layers import Embedding, Dense, LSTM\n",
        "from tensorflow.keras.layers import Bidirectional, TimeDistributed, SpatialDropout1D\n",
        "from tensorflow.keras.callbacks import EarlyStopping\n",
        "\n",
        "#others\n",
        "import warnings \n",
        "warnings.filterwarnings('ignore')\n",
        "\n",
        "\n",
        "plt.style.use(\"ggplot\")\n",
        "plt.rcParams[\"figure.figsize\"] = (12,8)"
      ]
    },
    {
      "cell_type": "code",
      "execution_count": null,
      "id": "DTiZLh3WszM0",
      "metadata": {
        "id": "DTiZLh3WszM0"
      },
      "outputs": [],
      "source": []
    },
    {
      "cell_type": "markdown",
      "id": "radical-tiffany",
      "metadata": {
        "id": "radical-tiffany"
      },
      "source": [
        "### **Reading Data**"
      ]
    },
    {
      "cell_type": "code",
      "execution_count": 4,
      "id": "distinguished-novel",
      "metadata": {
        "colab": {
          "base_uri": "https://localhost:8080/",
          "height": 677
        },
        "id": "distinguished-novel",
        "outputId": "1f2c5dc0-1f13-4efd-e6b6-bb37fe5285dc"
      },
      "outputs": [
        {
          "data": {
            "text/html": [
              "<div>\n",
              "<style scoped>\n",
              "    .dataframe tbody tr th:only-of-type {\n",
              "        vertical-align: middle;\n",
              "    }\n",
              "\n",
              "    .dataframe tbody tr th {\n",
              "        vertical-align: top;\n",
              "    }\n",
              "\n",
              "    .dataframe thead th {\n",
              "        text-align: right;\n",
              "    }\n",
              "</style>\n",
              "<table border=\"1\" class=\"dataframe\">\n",
              "  <thead>\n",
              "    <tr style=\"text-align: right;\">\n",
              "      <th></th>\n",
              "      <th>Sentence #</th>\n",
              "      <th>Word</th>\n",
              "      <th>POS</th>\n",
              "      <th>Tag</th>\n",
              "    </tr>\n",
              "  </thead>\n",
              "  <tbody>\n",
              "    <tr>\n",
              "      <th>0</th>\n",
              "      <td>Sentence: 1</td>\n",
              "      <td>Thousands</td>\n",
              "      <td>NNS</td>\n",
              "      <td>O</td>\n",
              "    </tr>\n",
              "    <tr>\n",
              "      <th>1</th>\n",
              "      <td>NaN</td>\n",
              "      <td>of</td>\n",
              "      <td>IN</td>\n",
              "      <td>O</td>\n",
              "    </tr>\n",
              "    <tr>\n",
              "      <th>2</th>\n",
              "      <td>NaN</td>\n",
              "      <td>demonstrators</td>\n",
              "      <td>NNS</td>\n",
              "      <td>O</td>\n",
              "    </tr>\n",
              "    <tr>\n",
              "      <th>3</th>\n",
              "      <td>NaN</td>\n",
              "      <td>have</td>\n",
              "      <td>VBP</td>\n",
              "      <td>O</td>\n",
              "    </tr>\n",
              "    <tr>\n",
              "      <th>4</th>\n",
              "      <td>NaN</td>\n",
              "      <td>marched</td>\n",
              "      <td>VBN</td>\n",
              "      <td>O</td>\n",
              "    </tr>\n",
              "    <tr>\n",
              "      <th>5</th>\n",
              "      <td>NaN</td>\n",
              "      <td>through</td>\n",
              "      <td>IN</td>\n",
              "      <td>O</td>\n",
              "    </tr>\n",
              "    <tr>\n",
              "      <th>6</th>\n",
              "      <td>NaN</td>\n",
              "      <td>London</td>\n",
              "      <td>NNP</td>\n",
              "      <td>B-geo</td>\n",
              "    </tr>\n",
              "    <tr>\n",
              "      <th>7</th>\n",
              "      <td>NaN</td>\n",
              "      <td>to</td>\n",
              "      <td>TO</td>\n",
              "      <td>O</td>\n",
              "    </tr>\n",
              "    <tr>\n",
              "      <th>8</th>\n",
              "      <td>NaN</td>\n",
              "      <td>protest</td>\n",
              "      <td>VB</td>\n",
              "      <td>O</td>\n",
              "    </tr>\n",
              "    <tr>\n",
              "      <th>9</th>\n",
              "      <td>NaN</td>\n",
              "      <td>the</td>\n",
              "      <td>DT</td>\n",
              "      <td>O</td>\n",
              "    </tr>\n",
              "    <tr>\n",
              "      <th>10</th>\n",
              "      <td>NaN</td>\n",
              "      <td>war</td>\n",
              "      <td>NN</td>\n",
              "      <td>O</td>\n",
              "    </tr>\n",
              "    <tr>\n",
              "      <th>11</th>\n",
              "      <td>NaN</td>\n",
              "      <td>in</td>\n",
              "      <td>IN</td>\n",
              "      <td>O</td>\n",
              "    </tr>\n",
              "    <tr>\n",
              "      <th>12</th>\n",
              "      <td>NaN</td>\n",
              "      <td>Iraq</td>\n",
              "      <td>NNP</td>\n",
              "      <td>B-geo</td>\n",
              "    </tr>\n",
              "    <tr>\n",
              "      <th>13</th>\n",
              "      <td>NaN</td>\n",
              "      <td>and</td>\n",
              "      <td>CC</td>\n",
              "      <td>O</td>\n",
              "    </tr>\n",
              "    <tr>\n",
              "      <th>14</th>\n",
              "      <td>NaN</td>\n",
              "      <td>demand</td>\n",
              "      <td>VB</td>\n",
              "      <td>O</td>\n",
              "    </tr>\n",
              "    <tr>\n",
              "      <th>15</th>\n",
              "      <td>NaN</td>\n",
              "      <td>the</td>\n",
              "      <td>DT</td>\n",
              "      <td>O</td>\n",
              "    </tr>\n",
              "    <tr>\n",
              "      <th>16</th>\n",
              "      <td>NaN</td>\n",
              "      <td>withdrawal</td>\n",
              "      <td>NN</td>\n",
              "      <td>O</td>\n",
              "    </tr>\n",
              "    <tr>\n",
              "      <th>17</th>\n",
              "      <td>NaN</td>\n",
              "      <td>of</td>\n",
              "      <td>IN</td>\n",
              "      <td>O</td>\n",
              "    </tr>\n",
              "    <tr>\n",
              "      <th>18</th>\n",
              "      <td>NaN</td>\n",
              "      <td>British</td>\n",
              "      <td>JJ</td>\n",
              "      <td>B-gpe</td>\n",
              "    </tr>\n",
              "    <tr>\n",
              "      <th>19</th>\n",
              "      <td>NaN</td>\n",
              "      <td>troops</td>\n",
              "      <td>NNS</td>\n",
              "      <td>O</td>\n",
              "    </tr>\n",
              "  </tbody>\n",
              "</table>\n",
              "</div>"
            ],
            "text/plain": [
              "     Sentence #           Word  POS    Tag\n",
              "0   Sentence: 1      Thousands  NNS      O\n",
              "1           NaN             of   IN      O\n",
              "2           NaN  demonstrators  NNS      O\n",
              "3           NaN           have  VBP      O\n",
              "4           NaN        marched  VBN      O\n",
              "5           NaN        through   IN      O\n",
              "6           NaN         London  NNP  B-geo\n",
              "7           NaN             to   TO      O\n",
              "8           NaN        protest   VB      O\n",
              "9           NaN            the   DT      O\n",
              "10          NaN            war   NN      O\n",
              "11          NaN             in   IN      O\n",
              "12          NaN           Iraq  NNP  B-geo\n",
              "13          NaN            and   CC      O\n",
              "14          NaN         demand   VB      O\n",
              "15          NaN            the   DT      O\n",
              "16          NaN     withdrawal   NN      O\n",
              "17          NaN             of   IN      O\n",
              "18          NaN        British   JJ  B-gpe\n",
              "19          NaN         troops  NNS      O"
            ]
          },
          "execution_count": 4,
          "metadata": {},
          "output_type": "execute_result"
        }
      ],
      "source": [
        "#reading csv file\n",
        "data = pd.read_csv('D:/keval/study/NER-Nlp/new_ner.csv',\n",
        "                   encoding = 'latin1')\n",
        "data.head(20)"
      ]
    },
    {
      "cell_type": "markdown",
      "id": "IR4qoiMELqCs",
      "metadata": {
        "id": "IR4qoiMELqCs"
      },
      "source": [
        "Note that above CSV file is formed from an already tokenized in text form with\n",
        "part of speech and tag. Note in case, we have only text then we can tokenize data using NLTK. \n",
        "\n",
        "The above has Null values but these are part of the same sentence. Hence, we will use `ffill`."
      ]
    },
    {
      "cell_type": "code",
      "execution_count": 5,
      "id": "i_Nrd5W-K5dH",
      "metadata": {
        "colab": {
          "base_uri": "https://localhost:8080/",
          "height": 363
        },
        "id": "i_Nrd5W-K5dH",
        "outputId": "aabe6bf7-af46-4f50-d8bd-ef74a8ae1d63"
      },
      "outputs": [
        {
          "data": {
            "text/html": [
              "<div>\n",
              "<style scoped>\n",
              "    .dataframe tbody tr th:only-of-type {\n",
              "        vertical-align: middle;\n",
              "    }\n",
              "\n",
              "    .dataframe tbody tr th {\n",
              "        vertical-align: top;\n",
              "    }\n",
              "\n",
              "    .dataframe thead th {\n",
              "        text-align: right;\n",
              "    }\n",
              "</style>\n",
              "<table border=\"1\" class=\"dataframe\">\n",
              "  <thead>\n",
              "    <tr style=\"text-align: right;\">\n",
              "      <th></th>\n",
              "      <th>Sentence #</th>\n",
              "      <th>Word</th>\n",
              "      <th>POS</th>\n",
              "      <th>Tag</th>\n",
              "    </tr>\n",
              "  </thead>\n",
              "  <tbody>\n",
              "    <tr>\n",
              "      <th>0</th>\n",
              "      <td>Sentence: 1</td>\n",
              "      <td>Thousands</td>\n",
              "      <td>NNS</td>\n",
              "      <td>O</td>\n",
              "    </tr>\n",
              "    <tr>\n",
              "      <th>1</th>\n",
              "      <td>Sentence: 1</td>\n",
              "      <td>of</td>\n",
              "      <td>IN</td>\n",
              "      <td>O</td>\n",
              "    </tr>\n",
              "    <tr>\n",
              "      <th>2</th>\n",
              "      <td>Sentence: 1</td>\n",
              "      <td>demonstrators</td>\n",
              "      <td>NNS</td>\n",
              "      <td>O</td>\n",
              "    </tr>\n",
              "    <tr>\n",
              "      <th>3</th>\n",
              "      <td>Sentence: 1</td>\n",
              "      <td>have</td>\n",
              "      <td>VBP</td>\n",
              "      <td>O</td>\n",
              "    </tr>\n",
              "    <tr>\n",
              "      <th>4</th>\n",
              "      <td>Sentence: 1</td>\n",
              "      <td>marched</td>\n",
              "      <td>VBN</td>\n",
              "      <td>O</td>\n",
              "    </tr>\n",
              "    <tr>\n",
              "      <th>5</th>\n",
              "      <td>Sentence: 1</td>\n",
              "      <td>through</td>\n",
              "      <td>IN</td>\n",
              "      <td>O</td>\n",
              "    </tr>\n",
              "    <tr>\n",
              "      <th>6</th>\n",
              "      <td>Sentence: 1</td>\n",
              "      <td>London</td>\n",
              "      <td>NNP</td>\n",
              "      <td>B-geo</td>\n",
              "    </tr>\n",
              "    <tr>\n",
              "      <th>7</th>\n",
              "      <td>Sentence: 1</td>\n",
              "      <td>to</td>\n",
              "      <td>TO</td>\n",
              "      <td>O</td>\n",
              "    </tr>\n",
              "    <tr>\n",
              "      <th>8</th>\n",
              "      <td>Sentence: 1</td>\n",
              "      <td>protest</td>\n",
              "      <td>VB</td>\n",
              "      <td>O</td>\n",
              "    </tr>\n",
              "    <tr>\n",
              "      <th>9</th>\n",
              "      <td>Sentence: 1</td>\n",
              "      <td>the</td>\n",
              "      <td>DT</td>\n",
              "      <td>O</td>\n",
              "    </tr>\n",
              "  </tbody>\n",
              "</table>\n",
              "</div>"
            ],
            "text/plain": [
              "    Sentence #           Word  POS    Tag\n",
              "0  Sentence: 1      Thousands  NNS      O\n",
              "1  Sentence: 1             of   IN      O\n",
              "2  Sentence: 1  demonstrators  NNS      O\n",
              "3  Sentence: 1           have  VBP      O\n",
              "4  Sentence: 1        marched  VBN      O\n",
              "5  Sentence: 1        through   IN      O\n",
              "6  Sentence: 1         London  NNP  B-geo\n",
              "7  Sentence: 1             to   TO      O\n",
              "8  Sentence: 1        protest   VB      O\n",
              "9  Sentence: 1            the   DT      O"
            ]
          },
          "execution_count": 5,
          "metadata": {},
          "output_type": "execute_result"
        }
      ],
      "source": [
        "data.fillna(method = 'ffill', inplace = True)\n",
        "data[:10]"
      ]
    },
    {
      "cell_type": "code",
      "execution_count": null,
      "id": "quantitative-mumbai",
      "metadata": {
        "colab": {
          "base_uri": "https://localhost:8080/"
        },
        "id": "quantitative-mumbai",
        "outputId": "00624642-aaa9-43fb-f8a3-c563d602f647"
      },
      "outputs": [
        {
          "data": {
            "text/plain": [
              "(1048575, 4)"
            ]
          },
          "execution_count": 17,
          "metadata": {},
          "output_type": "execute_result"
        }
      ],
      "source": [
        "data.shape"
      ]
    },
    {
      "cell_type": "code",
      "execution_count": 6,
      "id": "oZd4-G9_oDU-",
      "metadata": {
        "id": "oZd4-G9_oDU-"
      },
      "outputs": [],
      "source": [
        "#sort tags with respect to their counts\n",
        "tag_count  = data.Tag.value_counts()\n",
        "tag_count = pd.DataFrame(tag_count)\n",
        "tag_count.reset_index(inplace=True)"
      ]
    },
    {
      "cell_type": "code",
      "execution_count": 7,
      "id": "detailed-agreement",
      "metadata": {
        "colab": {
          "base_uri": "https://localhost:8080/",
          "height": 516
        },
        "id": "detailed-agreement",
        "outputId": "e114268d-7275-4b7d-9a1c-74e50cc3817c"
      },
      "outputs": [
        {
          "data": {
            "image/png": "[encoded data removed]",
            "text/plain": [
              "<Figure size 432x288 with 1 Axes>"
            ]
          },
          "metadata": {
            "needs_background": "light"
          },
          "output_type": "display_data"
        }
      ],
      "source": [
        "plt.bar(tag_count[\"index\"],tag_count[\"Tag\"], width=0.7, color ='green')\n",
        "plt.title('UNIQUE TAGS', fontsize = 13)\n",
        "plt.yscale(\"log\")\n",
        "plt.xlabel('Tags', fontsize = 13)\n",
        "plt.ylabel('Count', fontsize = 13)\n",
        "plt.show()"
      ]
    },
    {
      "cell_type": "markdown",
      "id": "91rdLOIKuz-t",
      "metadata": {
        "id": "91rdLOIKuz-t"
      },
      "source": [
        "Note that the above has more O tags in data compared to other tags. In case BI-LSTM doesn't perform well then in that case we might need to rectify\n",
        "this unbalanced data using appropriate sampling methods."
      ]
    },
    {
      "cell_type": "markdown",
      "id": "national-relevance",
      "metadata": {
        "id": "national-relevance"
      },
      "source": [
        "# **Processing**"
      ]
    },
    {
      "cell_type": "code",
      "execution_count": 9,
      "id": "uniform-input",
      "metadata": {
        "colab": {
          "base_uri": "https://localhost:8080/"
        },
        "id": "uniform-input",
        "outputId": "3fa75f32-68eb-4b71-fb71-e74ef945d266"
      },
      "outputs": [
        {
          "name": "stdout",
          "output_type": "stream",
          "text": [
            "The number of unique words in data: 35178\n",
            "The number of unique tags in data: 17\n"
          ]
        },
        {
          "data": {
            "text/plain": [
              "['B-org',\n",
              " 'I-nat',\n",
              " 'B-eve',\n",
              " 'I-art',\n",
              " 'B-geo',\n",
              " 'I-org',\n",
              " 'B-nat',\n",
              " 'I-eve',\n",
              " 'B-per',\n",
              " 'B-gpe',\n",
              " 'I-gpe',\n",
              " 'B-tim',\n",
              " 'O',\n",
              " 'B-art',\n",
              " 'I-geo',\n",
              " 'I-tim',\n",
              " 'I-per']"
            ]
          },
          "execution_count": 9,
          "metadata": {},
          "output_type": "execute_result"
        }
      ],
      "source": [
        "words = list(set(data['Word'].values))\n",
        "num_words = len(words)\n",
        "tags = list(set(data['Tag'].values))\n",
        "n_tags = len(tags)\n",
        "print(f\"The number of unique words in data: {num_words}\\nThe number of unique tags in data: {n_tags}\")\n",
        "words\n",
        "tags"
      ]
    },
    {
      "cell_type": "code",
      "execution_count": 10,
      "id": "1ojnD4ND6Nk6",
      "metadata": {
        "id": "1ojnD4ND6Nk6"
      },
      "outputs": [],
      "source": [
        "# class Grouping:\n",
        "Batching = lambda data: [ (wrd,tag) for wrd,tag in zip(data['Word'].values.tolist(),data['Tag'].values.tolist())]\n",
        "\n",
        "batch = data.groupby('Sentence #').apply(Batching)\n",
        "sentences = [i for i in batch]\n"
      ]
    },
    {
      "cell_type": "code",
      "execution_count": 11,
      "id": "union-ferry",
      "metadata": {
        "colab": {
          "base_uri": "https://localhost:8080/"
        },
        "id": "union-ferry",
        "outputId": "15cd0a99-10d5-497a-9ea3-30d7879d6947"
      },
      "outputs": [
        {
          "name": "stdout",
          "output_type": "stream",
          "text": [
            "('Thousands', 'O') ('of', 'O') ('demonstrators', 'O') ('have', 'O') ('marched', 'O') ('through', 'O') ('London', 'B-geo') ('to', 'O') ('protest', 'O') ('the', 'O') ('war', 'O') ('in', 'O') ('Iraq', 'B-geo') ('and', 'O') ('demand', 'O') ('the', 'O') ('withdrawal', 'O') ('of', 'O') ('British', 'B-gpe') ('troops', 'O') ('from', 'O') ('that', 'O') ('country', 'O') ('.', 'O')\n"
          ]
        }
      ],
      "source": [
        "print(*sentences[0], sep=\" \")"
      ]
    },
    {
      "cell_type": "markdown",
      "id": "final-innocent",
      "metadata": {
        "id": "final-innocent"
      },
      "source": [
        "### Mapping Words to Index."
      ]
    },
    {
      "cell_type": "markdown",
      "id": "w-cEG9O8URwq",
      "metadata": {
        "id": "w-cEG9O8URwq"
      },
      "source": [
        "Note that all models require inputs in real numbers. Therefore, we need to convert these words to tensors so that we can train models on this data. Here, we use a simple method where we assign each word and tag a unique number."
      ]
    },
    {
      "cell_type": "code",
      "execution_count": 13,
      "id": "direct-childhood",
      "metadata": {
        "id": "direct-childhood"
      },
      "outputs": [],
      "source": [
        "word2idx = {w : i + 1 for i, w in enumerate(words)}\n",
        "\n",
        "tag2idx = {t : i for i, t in enumerate(tags)}\n"
      ]
    },
    {
      "cell_type": "code",
      "execution_count": 14,
      "id": "mechanical-arkansas",
      "metadata": {
        "colab": {
          "base_uri": "https://localhost:8080/",
          "height": 520
        },
        "id": "mechanical-arkansas",
        "outputId": "d7b7d282-a78e-4026-f5e6-c29017176045"
      },
      "outputs": [
        {
          "data": {
            "image/png": "[encoded data removed]",
            "text/plain": [
              "<Figure size 432x288 with 1 Axes>"
            ]
          },
          "metadata": {
            "needs_background": "light"
          },
          "output_type": "display_data"
        }
      ],
      "source": [
        "sns.histplot([len(s) for s in sentences], kde=True,color=\"blue\", bins=50)\n",
        "plt.title('Max Lenght of Sentence',fontsize = 15)\n",
        "plt.xlabel('Length', fontsize = 15)\n",
        "plt.show()"
      ]
    },
    {
      "cell_type": "markdown",
      "id": "internal-prophet",
      "metadata": {
        "id": "internal-prophet"
      },
      "source": [
        "- HERE WE CAN SEE THAT THE MAX LENGTH REACHES 60"
      ]
    },
    {
      "cell_type": "markdown",
      "id": "egyptian-saying",
      "metadata": {
        "id": "egyptian-saying"
      },
      "source": [
        "### Padding Words"
      ]
    },
    {
      "cell_type": "markdown",
      "id": "nXKHyi49ZrX5",
      "metadata": {
        "id": "nXKHyi49ZrX5"
      },
      "source": [
        "Note that since sentence are variable length and these would create a problem\n",
        "as the tensor would be not of proper shape. Hence, to compensate for this\n",
        "we pad `X` with extra numbers."
      ]
    },
    {
      "cell_type": "code",
      "execution_count": 15,
      "id": "wifpQPnnaDNp",
      "metadata": {
        "colab": {
          "base_uri": "https://localhost:8080/"
        },
        "id": "wifpQPnnaDNp",
        "outputId": "6676a0e1-ed0a-4e65-cbf6-4f7a36058a9f"
      },
      "outputs": [
        {
          "name": "stdout",
          "output_type": "stream",
          "text": [
            "24,25,32,11,35\n"
          ]
        }
      ],
      "source": [
        "max_len = 60\n",
        "#Converting Sentences to vectors \n",
        "X = [[word2idx[w[0]] for w in s] for s in sentences]\n",
        "y = [[tag2idx[t[1]] for t in s] for s in sentences]\n",
        "vector_len = [len(vec) for vec in X]\n",
        "print(*vector_len[:5], sep=\",\")\n"
      ]
    },
    {
      "cell_type": "markdown",
      "id": "W0hTw-oAbI6K",
      "metadata": {
        "id": "W0hTw-oAbI6K"
      },
      "source": [
        "Observe that the vectors are of different length. And to address this issue we\n",
        "pad vectors to make all of them of fixed length."
      ]
    },
    {
      "cell_type": "code",
      "execution_count": 16,
      "id": "JVMlTWK9bt6T",
      "metadata": {
        "id": "JVMlTWK9bt6T"
      },
      "outputs": [],
      "source": [
        "X = pad_sequences(X, maxlen = max_len, padding = 'post', value = num_words - 1)\n",
        "y = pad_sequences(y, maxlen = max_len, padding = 'post', value = tag2idx['O'])\n",
        "\n",
        "y = [to_categorical(i, num_classes = n_tags) for i in y]\n"
      ]
    },
    {
      "cell_type": "code",
      "execution_count": 17,
      "id": "EbuuJF7kbG4i",
      "metadata": {
        "colab": {
          "base_uri": "https://localhost:8080/"
        },
        "id": "EbuuJF7kbG4i",
        "outputId": "3df70473-b163-453f-ba31-c5d3c39b01fc"
      },
      "outputs": [
        {
          "name": "stdout",
          "output_type": "stream",
          "text": [
            "1\n"
          ]
        }
      ],
      "source": [
        "vector_pad_len = [len(vec) for vec in X]\n",
        "print(len(set(vector_pad_len)))"
      ]
    },
    {
      "cell_type": "markdown",
      "id": "_rH4pDblc1G-",
      "metadata": {
        "id": "_rH4pDblc1G-"
      },
      "source": [
        "Note that after padding all are of same length. As maximum length of sentence in\n",
        "our data is `60`"
      ]
    },
    {
      "cell_type": "code",
      "execution_count": 18,
      "id": "FpuaRaRia5ri",
      "metadata": {
        "colab": {
          "base_uri": "https://localhost:8080/"
        },
        "id": "FpuaRaRia5ri",
        "outputId": "0e1e3195-a14b-4371-a908-03b976881cb7"
      },
      "outputs": [
        {
          "name": "stdout",
          "output_type": "stream",
          "text": [
            "[[ 5523  8005 24588 ... 35177 35177 35177]\n",
            " [19662 22699 12215 ... 35177 35177 35177]\n",
            " [13321 24193 22204 ... 35177 35177 35177]\n",
            " ...\n",
            " [ 1843 22152 16714 ... 35177 35177 35177]\n",
            " [27366 21383 20484 ... 35177 35177 35177]\n",
            " [29268 23009 17787 ... 35177 35177 35177]]\n"
          ]
        }
      ],
      "source": [
        "print(X)"
      ]
    },
    {
      "cell_type": "markdown",
      "id": "retained-richards",
      "metadata": {
        "id": "retained-richards"
      },
      "source": [
        "# **Training**\n",
        "\n",
        "We will split training data into two parts. First dataset will be used for \n",
        "training purpose and the second dataset will be used for validation."
      ]
    },
    {
      "cell_type": "code",
      "execution_count": 19,
      "id": "exceptional-terry",
      "metadata": {
        "id": "exceptional-terry"
      },
      "outputs": [],
      "source": [
        "X_train, X_r, y_train, y_r = train_test_split(X, y, test_size = 0.3,\n",
        "                                                    random_state = 44)\n",
        "X_val, X_test, y_val, y_test = train_test_split(X_r, y_r, test_size = 0.5,\n",
        "                                                    random_state = 44)"
      ]
    },
    {
      "cell_type": "code",
      "execution_count": 20,
      "id": "first-cedar",
      "metadata": {
        "colab": {
          "base_uri": "https://localhost:8080/"
        },
        "id": "first-cedar",
        "outputId": "f32aeea7-aed8-4d4f-f3bd-1442788f2166"
      },
      "outputs": [
        {
          "data": {
            "text/plain": [
              "((33571, 60), (7194, 60), (7194, 60))"
            ]
          },
          "execution_count": 20,
          "metadata": {},
          "output_type": "execute_result"
        }
      ],
      "source": [
        "X_train.shape, X_val.shape, X_test.shape"
      ]
    },
    {
      "cell_type": "markdown",
      "id": "surrounded-muscle",
      "metadata": {
        "id": "surrounded-muscle"
      },
      "source": [
        "### Model BI-LSTM:"
      ]
    },
    {
      "cell_type": "code",
      "execution_count": 21,
      "id": "fatty-newsletter",
      "metadata": {
        "id": "fatty-newsletter"
      },
      "outputs": [],
      "source": [
        "input_dim = num_words + 1\n",
        "output_dim = max_len\n",
        "input_length = max_len"
      ]
    },
    {
      "cell_type": "code",
      "execution_count": 22,
      "id": "forced-metropolitan",
      "metadata": {
        "id": "forced-metropolitan"
      },
      "outputs": [],
      "source": [
        "input_dim, output_dim, input_length\n",
        "class bi_lstm:\n",
        "\n",
        "  def __init__(self):\n",
        "    self.model = Sequential()\n",
        "\n",
        "    self.model.add(Embedding(input_dim = input_dim, output_dim = output_dim,\n",
        "                        input_length = input_length))\n",
        "\n",
        "    self.model.add(SpatialDropout1D(0.1))\n",
        "\n",
        "    self.model.add(Bidirectional(LSTM(units = 100, recurrent_dropout = 0.1,\n",
        "                                 return_sequences = True)))\n",
        "\n",
        "    self.model.add(TimeDistributed(Dense(units = n_tags,\n",
        "                                         activation = 'softmax')))\n",
        "\n",
        "    self.model.compile(optimizer = 'adam',\n",
        "                       loss = 'categorical_crossentropy',\n",
        "                       metrics = ['accuracy'])\n",
        "  def train(self,X_train,y_train, X_val, y_val):\n",
        "      callbacks = EarlyStopping(monitor = 'accuracy',\n",
        "                                patience = 2,\n",
        "                                verbose = 1,\n",
        "                                mode = 'max',\n",
        "                                restore_best_weights = True)\n",
        "      \n",
        "      history = self.model.fit(X_train, np.array(y_train),\n",
        "                          batch_size = 32, epochs = 10,\n",
        "                          callbacks = callbacks, verbose = 1,\n",
        "                          validation_data=(X_val, np.array(y_val)))\n",
        "      return history\n",
        "\n",
        "  def test(self,X_test,y_test):\n",
        "      self.model.evaluate(X_test, np.array(y_test))  \n"
      ]
    },
    {
      "cell_type": "code",
      "execution_count": 23,
      "id": "cooperative-devon",
      "metadata": {
        "colab": {
          "base_uri": "https://localhost:8080/"
        },
        "id": "cooperative-devon",
        "outputId": "227c143b-1bd7-4209-b273-828fdd19df5e"
      },
      "outputs": [
        {
          "name": "stdout",
          "output_type": "stream",
          "text": [
            "Model: \"sequential\"\n",
            "_________________________________________________________________\n",
            " Layer (type)                Output Shape              Param #   \n",
            "=================================================================\n",
            " embedding (Embedding)       (None, 60, 60)            2110740   \n",
            "                                                                 \n",
            " spatial_dropout1d (SpatialD  (None, 60, 60)           0         \n",
            " ropout1D)                                                       \n",
            "                                                                 \n",
            " bidirectional (Bidirectiona  (None, 60, 200)          128800    \n",
            " l)                                                              \n",
            "                                                                 \n",
            " time_distributed (TimeDistr  (None, 60, 17)           3417      \n",
            " ibuted)                                                         \n",
            "                                                                 \n",
            "=================================================================\n",
            "Total params: 2,242,957\n",
            "Trainable params: 2,242,957\n",
            "Non-trainable params: 0\n",
            "_________________________________________________________________\n"
          ]
        }
      ],
      "source": [
        "model = bi_lstm()\n",
        "model.model.summary()"
      ]
    },
    {
      "cell_type": "code",
      "execution_count": 24,
      "id": "according-nashville",
      "metadata": {
        "colab": {
          "base_uri": "https://localhost:8080/"
        },
        "id": "according-nashville",
        "outputId": "551db474-29f3-49f4-ef0d-935c8f98f242"
      },
      "outputs": [
        {
          "name": "stdout",
          "output_type": "stream",
          "text": [
            "Epoch 1/10\n",
            "1050/1050 [==============================] - 74s 66ms/step - loss: 0.1588 - accuracy: 0.9646 - val_loss: 0.0564 - val_accuracy: 0.9837\n",
            "Epoch 2/10\n",
            "1050/1050 [==============================] - 76s 72ms/step - loss: 0.0430 - accuracy: 0.9874 - val_loss: 0.0429 - val_accuracy: 0.9872\n",
            "Epoch 3/10\n",
            "1050/1050 [==============================] - 91s 87ms/step - loss: 0.0308 - accuracy: 0.9907 - val_loss: 0.0411 - val_accuracy: 0.9876\n",
            "Epoch 4/10\n",
            "1050/1050 [==============================] - 86s 82ms/step - loss: 0.0250 - accuracy: 0.9922 - val_loss: 0.0417 - val_accuracy: 0.9876\n",
            "Epoch 5/10\n",
            "1050/1050 [==============================] - 88s 84ms/step - loss: 0.0213 - accuracy: 0.9932 - val_loss: 0.0428 - val_accuracy: 0.9877\n",
            "Epoch 6/10\n",
            "1050/1050 [==============================] - 91s 86ms/step - loss: 0.0187 - accuracy: 0.9940 - val_loss: 0.0453 - val_accuracy: 0.9875\n",
            "Epoch 7/10\n",
            "1050/1050 [==============================] - 91s 87ms/step - loss: 0.0165 - accuracy: 0.9946 - val_loss: 0.0484 - val_accuracy: 0.9874\n",
            "Epoch 8/10\n",
            "1050/1050 [==============================] - 92s 88ms/step - loss: 0.0146 - accuracy: 0.9952 - val_loss: 0.0512 - val_accuracy: 0.9872\n",
            "Epoch 9/10\n",
            "1050/1050 [==============================] - 90s 86ms/step - loss: 0.0132 - accuracy: 0.9957 - val_loss: 0.0520 - val_accuracy: 0.9869\n",
            "Epoch 10/10\n",
            "1050/1050 [==============================] - 88s 84ms/step - loss: 0.0118 - accuracy: 0.9961 - val_loss: 0.0547 - val_accuracy: 0.9870\n"
          ]
        }
      ],
      "source": [
        "history = model.train(X_train,y_train,X_val,y_val)"
      ]
    },
    {
      "cell_type": "code",
      "execution_count": 25,
      "id": "honest-blood",
      "metadata": {
        "colab": {
          "base_uri": "https://localhost:8080/",
          "height": 483
        },
        "id": "honest-blood",
        "outputId": "57566775-3b3c-49ec-c0e9-4dea153ce2d6"
      },
      "outputs": [
        {
          "data": {
            "image/png": "[encoded data removed]",
            "text/plain": [
              "<Figure size 432x288 with 1 Axes>"
            ]
          },
          "metadata": {
            "needs_background": "light"
          },
          "output_type": "display_data"
        }
      ],
      "source": [
        "plt.plot([1,2,3,4,5,6,7,8,9,10], history.history['loss'],'r',linewidth=3.0)\n",
        "plt.plot([1,2,3,4,5,6,7,8,9,10], history.history['val_loss'],'g',linewidth=3.0)\n",
        "plt.legend(['loss', 'val_loss'],fontsize=18);\n",
        "plt.savefig('val_and_loss_graph.png')"
      ]
    },
    {
      "cell_type": "code",
      "execution_count": 26,
      "id": "3nF01UUoeVrR",
      "metadata": {
        "id": "3nF01UUoeVrR"
      },
      "outputs": [],
      "source": [
        "model.model.save('test.h5')"
      ]
    },
    {
      "cell_type": "markdown",
      "id": "sustainable-oracle",
      "metadata": {
        "id": "sustainable-oracle"
      },
      "source": [
        "# TEST"
      ]
    },
    {
      "cell_type": "code",
      "execution_count": 29,
      "id": "stuck-earthquake",
      "metadata": {
        "colab": {
          "base_uri": "https://localhost:8080/"
        },
        "id": "stuck-earthquake",
        "outputId": "19685650-98cf-4534-883e-753148ad97e2"
      },
      "outputs": [
        {
          "name": "stdout",
          "output_type": "stream",
          "text": [
            "1/1 [==============================] - 0s 19ms/step\n",
            "Word           True \t Pred \n",
            "\n",
            "------------------------------\n",
            "Polls          O\tO\n",
            "close          O\tO\n",
            "at             O\tO\n",
            "four           B-tim\tB-tim\n",
            "p.m.           I-tim\tI-tim\n",
            "and            O\tO\n",
            "results        O\tO\n",
            "are            O\tO\n",
            "expected       O\tO\n",
            "a              O\tO\n",
            "few            O\tB-tim\n",
            "hours          O\tO\n",
            "later          B-tim\tB-tim\n",
            ".              O\tO\n",
            "nationalities  O\tO\n",
            "nationalities  O\tO\n",
            "nationalities  O\tO\n",
            "nationalities  O\tO\n",
            "nationalities  O\tO\n",
            "nationalities  O\tO\n",
            "nationalities  O\tO\n",
            "nationalities  O\tO\n",
            "nationalities  O\tO\n",
            "nationalities  O\tO\n",
            "nationalities  O\tO\n",
            "nationalities  O\tO\n",
            "nationalities  O\tO\n",
            "nationalities  O\tO\n",
            "nationalities  O\tO\n",
            "nationalities  O\tO\n",
            "nationalities  O\tO\n",
            "nationalities  O\tO\n",
            "nationalities  O\tO\n",
            "nationalities  O\tO\n",
            "nationalities  O\tO\n",
            "nationalities  O\tO\n",
            "nationalities  O\tO\n",
            "nationalities  O\tO\n",
            "nationalities  O\tO\n",
            "nationalities  O\tO\n",
            "nationalities  O\tO\n",
            "nationalities  O\tO\n",
            "nationalities  O\tO\n",
            "nationalities  O\tO\n",
            "nationalities  O\tO\n",
            "nationalities  O\tO\n",
            "nationalities  O\tO\n",
            "nationalities  O\tO\n",
            "nationalities  O\tO\n",
            "nationalities  O\tO\n",
            "nationalities  O\tO\n",
            "nationalities  O\tO\n",
            "nationalities  O\tO\n",
            "nationalities  O\tO\n",
            "nationalities  O\tO\n",
            "nationalities  O\tO\n",
            "nationalities  O\tO\n",
            "nationalities  O\tO\n",
            "nationalities  O\tO\n",
            "nationalities  O\tO\n"
          ]
        }
      ],
      "source": [
        "i = np.random.randint(0,X_test.shape[0])\n",
        "p = model.model.predict(np.array([X_test[i]]))\n",
        "p = np.argmax(p, axis =-1)\n",
        "y_true = np.argmax(np.array(y_test), axis =-1)[i]\n",
        "print(\"{:15}{:5}\\t {} \\n\".format(\"Word\",\"True\",\"Pred\"))\n",
        "print(\"-\"*30)\n",
        "for w,true,pred in zip(X_test[i],y_true,p[0]):\n",
        "    print(\"{:15}{}\\t{}\".format(words[w-1],tags[true],tags[pred]))"
      ]
    },
    {
      "cell_type": "code",
      "execution_count": null,
      "id": "EKAGapNTw5UD",
      "metadata": {
        "id": "EKAGapNTw5UD"
      },
      "outputs": [],
      "source": []
    },
    {
      "cell_type": "code",
      "execution_count": null,
      "id": "Nji5i3nsw6vr",
      "metadata": {
        "id": "Nji5i3nsw6vr"
      },
      "outputs": [],
      "source": []
    },
    {
      "cell_type": "code",
      "execution_count": null,
      "id": "OQfB7dIuw6yi",
      "metadata": {
        "id": "OQfB7dIuw6yi"
      },
      "outputs": [],
      "source": []
    },
    {
      "cell_type": "code",
      "execution_count": null,
      "id": "TSPm5CAqw61P",
      "metadata": {
        "id": "TSPm5CAqw61P"
      },
      "outputs": [],
      "source": []
    },
    {
      "cell_type": "code",
      "execution_count": null,
      "id": "fKUjNLCCw65j",
      "metadata": {
        "id": "fKUjNLCCw65j"
      },
      "outputs": [],
      "source": []
    },
    {
      "cell_type": "code",
      "execution_count": null,
      "id": "2CsujLE-w68m",
      "metadata": {
        "id": "2CsujLE-w68m"
      },
      "outputs": [],
      "source": []
    },
    {
      "cell_type": "code",
      "execution_count": null,
      "id": "E5WtM1Haw6-y",
      "metadata": {
        "id": "E5WtM1Haw6-y"
      },
      "outputs": [],
      "source": []
    },
    {
      "cell_type": "code",
      "execution_count": null,
      "id": "d27JCGvaw7BN",
      "metadata": {
        "id": "d27JCGvaw7BN"
      },
      "outputs": [],
      "source": []
    },
    {
      "cell_type": "code",
      "execution_count": null,
      "id": "CrTK73A4w7GE",
      "metadata": {
        "id": "CrTK73A4w7GE"
      },
      "outputs": [],
      "source": []
    },
    {
      "cell_type": "code",
      "execution_count": null,
      "id": "Xb0ckiT6w7IZ",
      "metadata": {
        "id": "Xb0ckiT6w7IZ"
      },
      "outputs": [],
      "source": []
    },
    {
      "cell_type": "code",
      "execution_count": null,
      "id": "vQZzufPDw7LC",
      "metadata": {
        "id": "vQZzufPDw7LC"
      },
      "outputs": [],
      "source": []
    },
    {
      "cell_type": "code",
      "execution_count": null,
      "id": "WlZbdLgTw7Nq",
      "metadata": {
        "id": "WlZbdLgTw7Nq"
      },
      "outputs": [],
      "source": []
    },
    {
      "cell_type": "code",
      "execution_count": null,
      "id": "Sm7t-Fo5w7QF",
      "metadata": {
        "id": "Sm7t-Fo5w7QF"
      },
      "outputs": [],
      "source": []
    },
    {
      "cell_type": "code",
      "execution_count": null,
      "id": "eEgwPquLw7Sw",
      "metadata": {
        "id": "eEgwPquLw7Sw"
      },
      "outputs": [],
      "source": []
    },
    {
      "cell_type": "code",
      "execution_count": null,
      "id": "UGMIHve9w7Vb",
      "metadata": {
        "id": "UGMIHve9w7Vb"
      },
      "outputs": [],
      "source": []
    },
    {
      "cell_type": "code",
      "execution_count": null,
      "id": "tThpwX5Mw7YN",
      "metadata": {
        "id": "tThpwX5Mw7YN"
      },
      "outputs": [],
      "source": []
    },
    {
      "cell_type": "code",
      "execution_count": null,
      "id": "gfvSAQUTw7aa",
      "metadata": {
        "id": "gfvSAQUTw7aa"
      },
      "outputs": [],
      "source": []
    },
    {
      "cell_type": "code",
      "execution_count": null,
      "id": "KKiFm4NhydDQ",
      "metadata": {
        "id": "KKiFm4NhydDQ"
      },
      "outputs": [],
      "source": [
        "\n",
        "\n",
        "\n",
        "# record = pd.DataFrame(data)\n",
        "# record"
      ]
    },
    {
      "cell_type": "code",
      "execution_count": null,
      "id": "sBTnMGBCLfsK",
      "metadata": {
        "id": "sBTnMGBCLfsK"
      },
      "outputs": [],
      "source": [
        "# import pandas as pd\n",
        "# import random as rn\n",
        "# csv_main = pd.read_csv('/content/Department_Dataset.csv')\n",
        "# csv_main\n",
        "# state = ['Pune','Banglore','Mumbai']\n",
        "\n",
        "# csv_main['ID'][csv_main.City=='Mumbai']\n",
        "\n",
        "# queue = list(set(csv_main.queue.to_list()))\n",
        "# ID = csv_main.ID.to_list()\n",
        "\n",
        "# data = []\n",
        "# ci_id = []\n",
        "# m,p,b = 0,0,0\n",
        "# def allocation(allocate):\n",
        "#   for i in allocate.keys():\n",
        "\n",
        "#     for i in range(allocate[i]):\n",
        "#       ch,qu,st =  rn.choice(ID) , rn.choice(queue),rn.choice(state)\n",
        "#       m+=1 if st == 'Mumbai' else  p += 1 if st == 'Pune' else b+=1 if st =='Banglore' else 0\n",
        "\n",
        "      \n",
        "      \n",
        "      \n",
        "#       while ch in ci_id :\n",
        "\n",
        "\n",
        "#         ch,qu,st =  rn.choice(ID) , rn.choice(queue),rn.choice(state)\n",
        "#       ci_id.append(ch)\n",
        "#       state.remove('Mumbai') if m == 8 else state.remove('Pune') if p == 8 else state.remove('Banglore') if b == 8 else 0\n",
        "#       data.append([ch,(csv_main['name'][csv_main['ID'] ==ch]).to_list()[0],qu,st])\n",
        "#   print(m,p,b)\n",
        "#   return data\n",
        "\n",
        "\n",
        "\n",
        "# allocate = { 'pu':8, 'mum':8 ,'bg':8 }\n",
        "# record = allocation(allocate)\n",
        "\n",
        "# record\n",
        "\n",
        "# record.to_csv('Result.csv',mode ='a',index= False)\n",
        "    \n",
        "\n",
        "\n",
        "# record = pd.DataFrame(data)\n",
        "# record.to_csv('Result.csv',mode ='a',index= False)\n",
        "    \n"
      ]
    },
    {
      "cell_type": "code",
      "execution_count": null,
      "id": "INWQKFawvYmF",
      "metadata": {
        "id": "INWQKFawvYmF"
      },
      "outputs": [],
      "source": []
    },
    {
      "cell_type": "code",
      "execution_count": null,
      "id": "pyn_OklivYoz",
      "metadata": {
        "id": "pyn_OklivYoz"
      },
      "outputs": [],
      "source": []
    },
    {
      "cell_type": "code",
      "execution_count": null,
      "id": "yWn2imwRvYra",
      "metadata": {
        "id": "yWn2imwRvYra"
      },
      "outputs": [],
      "source": []
    },
    {
      "cell_type": "code",
      "execution_count": null,
      "id": "f2sApDusvYuH",
      "metadata": {
        "id": "f2sApDusvYuH"
      },
      "outputs": [],
      "source": []
    },
    {
      "cell_type": "code",
      "execution_count": null,
      "id": "bXANJ4P_vYwj",
      "metadata": {
        "id": "bXANJ4P_vYwj"
      },
      "outputs": [],
      "source": []
    },
    {
      "cell_type": "code",
      "execution_count": null,
      "id": "Rp0FOEwzvYy8",
      "metadata": {
        "id": "Rp0FOEwzvYy8"
      },
      "outputs": [],
      "source": []
    },
    {
      "cell_type": "code",
      "execution_count": null,
      "id": "BBaZ8gXIvY1z",
      "metadata": {
        "id": "BBaZ8gXIvY1z"
      },
      "outputs": [],
      "source": []
    },
    {
      "cell_type": "code",
      "execution_count": null,
      "id": "HMXkQGHNvY4V",
      "metadata": {
        "id": "HMXkQGHNvY4V"
      },
      "outputs": [],
      "source": []
    },
    {
      "cell_type": "code",
      "execution_count": null,
      "id": "5Q1Ly9UyvY6q",
      "metadata": {
        "id": "5Q1Ly9UyvY6q"
      },
      "outputs": [],
      "source": []
    }
  ],
  "metadata": {
    "colab": {
      "provenance": []
    },
    "kernelspec": {
      "display_name": "Python 3",
      "language": "python",
      "name": "python3"
    },
    "language_info": {
      "codemirror_mode": {
        "name": "ipython",
        "version": 3
      },
      "file_extension": ".py",
      "mimetype": "text/x-python",
      "name": "python",
      "nbconvert_exporter": "python",
      "pygments_lexer": "ipython3",
      "version": "3.10.5"
    },
    "vscode": {
      "interpreter": {
        "hash": "542361033dc5827f087c2250d54549789f2a83a90a0102a689a4106d106cac6d"
      }
    }
  },
  "nbformat": 4,
  "nbformat_minor": 5
}
